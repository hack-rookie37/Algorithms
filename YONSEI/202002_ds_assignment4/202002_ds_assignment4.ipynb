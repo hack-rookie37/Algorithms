{
 "cells": [
  {
   "cell_type": "markdown",
   "metadata": {},
   "source": [
    "> ### EEE2020-01: Data Structures & Algorithms\n",
    "\n",
    "# Assignment \\# IV: Searching & Sorting"
   ]
  },
  {
   "cell_type": "markdown",
   "metadata": {},
   "source": [
    "**<div style=\"text-align: right\"> Due date: November 14, 2020. </div>** \n",
    "**<div style=\"text-align: right\"> Please upload your file @ yscec by 9:00 PM. </div>** \n",
    "<div style=\"text-align: right\"> Jaehyeon Moon(문재현): <a href=\"mailto:tw02137@yonsei.ac.kr\">tw02137@yonsei.ac.kr</a> </div>\n",
    "<div style=\"text-align: right\"> Donghyeon Baek(백동현): <a href=\"mailto:dh_baek@yonsei.ac.kr\">dh_baek@yonsei.ac.kr</a> "
   ]
  },
  {
   "cell_type": "markdown",
   "metadata": {},
   "source": [
    "-------------------------------"
   ]
  },
  {
   "cell_type": "markdown",
   "metadata": {},
   "source": [
    "\n",
    "### *Assignment Instructions:*\n",
    "1. Write a program implementing a particular algorithm to solve a given problem.\n",
    "2. You can use both Korean and English for your report.\n",
    "3. **Analyze the algorithm, theoretically and empirically.** \n",
    "4. **Report your results.**   \n",
    "    - You must do assignments and labs yourself. \n",
    "    - <span style=\"color:red\">**Do not copy any part of your friends’ code.**</span>\n",
    "    - Otherwise, you will get a F grade."
   ]
  },
  {
   "cell_type": "markdown",
   "metadata": {},
   "source": [
    "-----------------"
   ]
  },
  {
   "cell_type": "markdown",
   "metadata": {},
   "source": [
    "<h2><span style=\"color:blue\">[Insert your ID HERE] [Insert your name HERE]</span> </h2>"
   ]
  },
  {
   "cell_type": "code",
   "execution_count": 1,
   "metadata": {},
   "outputs": [
    {
     "name": "stdout",
     "output_type": "stream",
     "text": [
      "This code is written at 2020-10-25 13:34:15.866933\n"
     ]
    }
   ],
   "source": [
    "import datetime\n",
    "print(\"This code is written at \" + str(datetime.datetime.now()))\n",
    "\n",
    "from assignment4 import LinkedList, sequential_search, binary_search, insertion_sort, shell_sort, Sorting, IndexTable, HashTable"
   ]
  },
  {
   "cell_type": "markdown",
   "metadata": {},
   "source": [
    "-------------------------------"
   ]
  },
  {
   "cell_type": "markdown",
   "metadata": {},
   "source": [
    "### \\# PROBLEM I (25 POINTS)"
   ]
  },
  {
   "cell_type": "markdown",
   "metadata": {},
   "source": [
    "다음 함수들을 포함하는 **LinkedList** class를 구현하시오.  \n",
    "\n",
    "> * $\\_\\_str\\_\\_()$ : LinkedList의 모든 Node에 들어있는 data를 head에 가까운 Node부터 차례대로 보여준다.\n",
    ">\n",
    ">\n",
    "> * $add(item)$ : LinkedList의 head 부분에 $item$을 포함하는 Node를 추가한다.\n",
    ">\n",
    ">\n",
    "> * $erase(func)$ : LinkedList에서 $func$ 함수가 반환하는 값이 True인 Node들을 모두 삭제한다.\n",
    ">\n",
    ">\n",
    "> * $search(func)$ : LinkedList에서 $func$ 함수가 반환하는 값이 True인 Node의 index를 모두 반환한다.\n",
    ">\n",
    ">\n",
    "> * $sort(func)$ : LinkedList의 $func$ 함수가 반환하는 값이 작을수록 head에 가깝게 위치하도록 모든 Node를 정렬한다. 정렬 방법은 bubble sort를 이용한다.  "
   ]
  },
  {
   "cell_type": "code",
   "execution_count": 2,
   "metadata": {},
   "outputs": [
    {
     "name": "stdout",
     "output_type": "stream",
     "text": [
      "[6, 8, 3, 9]\n",
      "[6, 3]\n",
      "[0, 3, 6]\n",
      "[6, 2, 7, 3, 3, 4, 9]\n"
     ]
    }
   ],
   "source": [
    "l = LinkedList()\n",
    "\n",
    "l.add(9)\n",
    "l.add(3)\n",
    "l.add(8)\n",
    "l.add(6)\n",
    "print(l)\n",
    "\n",
    "l.erase(lambda x : x.get_data() > 6)\n",
    "print(l)\n",
    "\n",
    "l.add(7)\n",
    "l.add(3)\n",
    "l.add(9)\n",
    "l.add(4)\n",
    "l.add(2)\n",
    "print(l.search(lambda x : x.get_data() < 4))\n",
    "\n",
    "def sorting_criterion(x):\n",
    "    return x.get_data() % 5\n",
    "\n",
    "l.sort(sorting_criterion)\n",
    "print(l)"
   ]
  },
  {
   "cell_type": "markdown",
   "metadata": {},
   "source": [
    "### Description :"
   ]
  },
  {
   "cell_type": "markdown",
   "metadata": {},
   "source": [
    "Description here"
   ]
  },
  {
   "cell_type": "markdown",
   "metadata": {},
   "source": [
    "-------------------------------"
   ]
  },
  {
   "cell_type": "markdown",
   "metadata": {},
   "source": [
    "### # PROBLEM II (25 POINTS)"
   ]
  },
  {
   "cell_type": "markdown",
   "metadata": {},
   "source": [
    "#### Problem II-1 (15 POINTS)"
   ]
  },
  {
   "cell_type": "markdown",
   "metadata": {},
   "source": [
    "다음의 함수를 구현하시오. `search_list`는 오름차순으로 정렬되어 있다고 가정한다.\n",
    "\n",
    "> * $sequential\\_search(search\\_list, num)$ : $search\\_list$ 안의 원소들 중 값이 $num$과 일치하는 모든 원소의 index를 리스트 형태로 반환하는 함수이다. 탐색 방법은 sequential search로 이루어진다.   \n",
    ">\n",
    ">\n",
    "> * $binary\\_search(search\\_list, num)$ : $search\\_list$ 안의 원소들 중 값이 $num$과 일치하는 모든 원소의 index를 리스트 형태로 반환하는 함수이다. 탐색 방법은 binary search로 이루어지며, recursion을 포함해야 한다.  \n",
    "\n",
    "**`list.index()`함수나 numpy를 사용하지 않을 것. 또한, N이 충분히 클 경우 binary_search의 수행시간이 훨씬 더 짧아야 한다.**"
   ]
  },
  {
   "cell_type": "code",
   "execution_count": 3,
   "metadata": {},
   "outputs": [
    {
     "name": "stdout",
     "output_type": "stream",
     "text": [
      "[8, 9]\n",
      "[5, 4, 3]\n"
     ]
    }
   ],
   "source": [
    "search_list = [1, 2, 2, 3, 3, 3, 4, 4, 5, 5, 6]\n",
    "\n",
    "print(sequential_search(search_list, 5))\n",
    "print(binary_search(search_list, 3))"
   ]
  },
  {
   "cell_type": "markdown",
   "metadata": {},
   "source": [
    "#### Problem II-2 (10 POINTS)"
   ]
  },
  {
   "cell_type": "markdown",
   "metadata": {},
   "source": [
    "다음의 함수를 구현하시오.  \n",
    "\n",
    "> * $insertion\\_sort(sort\\_list, func)$ : $sort\\_list$ 안의 원소를 $func$ 함수가 반환하는 값이 작을수록 왼쪽에 배치되도록 정렬하는 함수이다. 정렬 방법은 insertion sort로 이루어진다.  \n",
    ">\n",
    ">\n",
    "> * $shell\\_sort(sort\\_list, func1, func2)$ : $sort\\_list$ 안의 원소를 다음 조건을 만족하면서 정렬하는 함수이다. 정렬 방법은 shell sort로 이루어진다.  \n",
    ">> 1. $func1$ 함수가 반환하는 값이 작을수록 왼쪽에 배치된다.  \n",
    ">> 2. $func1$ 함수가 반환하는 값이 동일한 두 원소에 대하여, $func2$ 함수가 반환하는 값이 클수록 왼쪽에 배치된다.  \n",
    "\n",
    "**built-in sorting method(e.g. `sorted()`나 `numpy.sort()` 등)를 사용하지 않을 것.**"
   ]
  },
  {
   "cell_type": "code",
   "execution_count": 4,
   "metadata": {
    "scrolled": true
   },
   "outputs": [
    {
     "name": "stdout",
     "output_type": "stream",
     "text": [
      "[5, 4, 6, 3, 2, 1]\n",
      "[2, 4, 6, 5, 1, 3]\n"
     ]
    }
   ],
   "source": [
    "sort_list = [1, 2, 3, 4, 5, 6]\n",
    "sort_list2 = [1, 2, 3, 4, 5, 6]\n",
    "\n",
    "insertion_sort(sort_list, lambda x: x ** 2 - 10 * x)\n",
    "print(sort_list)\n",
    "shell_sort(sort_list2, lambda x: x % 2, lambda x: x % 3)\n",
    "print(sort_list2)"
   ]
  },
  {
   "cell_type": "markdown",
   "metadata": {},
   "source": [
    "### Description :"
   ]
  },
  {
   "cell_type": "markdown",
   "metadata": {},
   "source": [
    "Description here"
   ]
  },
  {
   "cell_type": "markdown",
   "metadata": {},
   "source": [
    "-------------------------------"
   ]
  },
  {
   "cell_type": "markdown",
   "metadata": {},
   "source": [
    "### # PROBLEM III (50 POINTS)"
   ]
  },
  {
   "cell_type": "markdown",
   "metadata": {},
   "source": [
    "**조건**을 만족하는 **Sorting** class를 구현하시오.\n",
    "\n",
    "**조건**\n",
    "> 1. Sorting class에는 bubble sort, selection sort, merge sort, quick sort를 하는 함수가 포함된다.  \n",
    ">\n",
    ">\n",
    "> 2. 각 정렬 함수에서는 $func$ 함수를 인자로 받아 정렬을 진행하게 된다. $func$ 함수가 반환하는 값이 클수록 item들이 왼쪽에 배치된다.  \n",
    "다만, $func$ 함수가 반환하는 값이 동일한 임의의 두 item에 대하여, 두 item은 동일한 nested list안에 있도록 한다.   \n",
    "예를 들어, $bubble\\_sort(sort\\_list, func)$의 실행 결과는 다음과 같다.  \n",
    "코드 : `bubble_sort([3, 4, 5, 1, 2, 4], lambda x: x // 2)`  \n",
    "반환값 : `[[4, 5, 4], [3, 2], [1]]`\n",
    ">\n",
    ">\n",
    "> 3. $compute\\_sorting\\_time()$ 함수에서는 아래 조건을 만족하며 각 정렬 함수의 수행 시간을 보여준다.  \n",
    ">> * x축을 $N$, y축을 정렬 시간으로 할 것. $func$은 주어진 $sorting\\_func(x)$로 할 것.  \n",
    ">>\n",
    ">>\n",
    ">> * 주어진 $random\\_list(N)$ 함수를 이용하여 $N = 50, 100, 150, ... , 500$일 때 그래프를 `matplotlib`을 이용하여 line plot으로 나타낼 것.\n",
    ">\n",
    ">\n",
    "> 4. $sort\\_medals()$ 함수에서는 `medals.csv` 파일로부터 데이터를 받아 아래 조건을 만족하며 정렬한 뒤, 정렬된 데이터를 **pandas.DataFrame**의 형태로 반환한다.  \n",
    ">> * 금메달의 개수가 많은 국가가 위에 배치되도록 정렬을 진행한다. 정렬 방법은 selection sort로 진행한다.\n",
    ">>\n",
    ">>\n",
    ">> * 금메달의 개수가 동일한 임의의 두 국가에 대하여, 은메달의 개수가 많은 국가가 위에 배치되도록 정렬을 진행한다. 정렬 방법은 merge sort로 진행한다.\n",
    ">>\n",
    ">>\n",
    ">> * 은메달의 개수가 동일한 임의의 두 국가에 대하여, 동메달의 개수가 많은 국가가 위에 배치되도록 정렬을 진행한다. 정렬 방법은 quick sort로 진행한다.\n",
    ">>\n",
    ">>\n",
    ">> * **조건 2**에서 구현한 $selection\\_sort(sort\\_list, func)$, $merge\\_sort(sort\\_list, func)$, $quick\\_sort(sort\\_list, func)$ 함수를 사용해야 한다.\n",
    ">\n",
    "> **5. Sorting class에서는 built-in sorting method를 사용하지 않는다.**  "
   ]
  },
  {
   "cell_type": "code",
   "execution_count": 5,
   "metadata": {},
   "outputs": [
    {
     "name": "stdout",
     "output_type": "stream",
     "text": [
      "[[1, 3, 5, 7, 9, 11], [2, 4, 6, 8, 10, 12]]\n",
      "[[2, 11, 5, 8], [10, 7, 4, 1], [9, 6, 12, 3]]\n",
      "[[11, 7, 3], [10, 6, 2], [9, 5, 1], [12, 8, 4]]\n",
      "[[9, 4], [3, 8], [12, 7, 2], [6, 1, 11], [5, 10]]\n"
     ]
    }
   ],
   "source": [
    "from copy import deepcopy\n",
    "\n",
    "s = Sorting()\n",
    "l1 = [1, 2, 3, 4, 5, 6, 7, 8, 9, 10, 11, 12]\n",
    "l2, l3, l4 = deepcopy(l1), deepcopy(l1), deepcopy(l1)\n",
    "\n",
    "print(s.bubble_sort(l1, lambda x : x % 2))\n",
    "print(s.selection_sort(l2, lambda x : x % 3))\n",
    "print(s.merge_sort(l3, lambda x : x % 4))\n",
    "print(s.quick_sort(l4, lambda x : x % 5))"
   ]
  },
  {
   "cell_type": "code",
   "execution_count": 6,
   "metadata": {},
   "outputs": [
    {
     "data": {
      "image/png": "[encoded data removed]",
      "text/plain": [
       "<Figure size 432x288 with 1 Axes>"
      ]
     },
     "metadata": {
      "needs_background": "light"
     },
     "output_type": "display_data"
    }
   ],
   "source": [
    "s.compute_sorting_time()"
   ]
  },
  {
   "cell_type": "code",
   "execution_count": 7,
   "metadata": {},
   "outputs": [
    {
     "data": {
      "text/html": [
       "<div>\n",
       "<style scoped>\n",
       "    .dataframe tbody tr th:only-of-type {\n",
       "        vertical-align: middle;\n",
       "    }\n",
       "\n",
       "    .dataframe tbody tr th {\n",
       "        vertical-align: top;\n",
       "    }\n",
       "\n",
       "    .dataframe thead th {\n",
       "        text-align: right;\n",
       "    }\n",
       "</style>\n",
       "<table border=\"1\" class=\"dataframe\">\n",
       "  <thead>\n",
       "    <tr style=\"text-align: right;\">\n",
       "      <th></th>\n",
       "      <th>NOC</th>\n",
       "      <th>Gold</th>\n",
       "      <th>Silver</th>\n",
       "      <th>Bronze</th>\n",
       "      <th>Total</th>\n",
       "    </tr>\n",
       "  </thead>\n",
       "  <tbody>\n",
       "    <tr>\n",
       "      <th>0</th>\n",
       "      <td>United States(USA)</td>\n",
       "      <td>46</td>\n",
       "      <td>37</td>\n",
       "      <td>38</td>\n",
       "      <td>121</td>\n",
       "    </tr>\n",
       "    <tr>\n",
       "      <th>1</th>\n",
       "      <td>Great Britain(GBR)</td>\n",
       "      <td>27</td>\n",
       "      <td>23</td>\n",
       "      <td>17</td>\n",
       "      <td>67</td>\n",
       "    </tr>\n",
       "    <tr>\n",
       "      <th>2</th>\n",
       "      <td>China(CHN)</td>\n",
       "      <td>26</td>\n",
       "      <td>18</td>\n",
       "      <td>26</td>\n",
       "      <td>70</td>\n",
       "    </tr>\n",
       "    <tr>\n",
       "      <th>3</th>\n",
       "      <td>Russia(RUS)</td>\n",
       "      <td>19</td>\n",
       "      <td>17</td>\n",
       "      <td>20</td>\n",
       "      <td>56</td>\n",
       "    </tr>\n",
       "    <tr>\n",
       "      <th>4</th>\n",
       "      <td>Germany(GER)</td>\n",
       "      <td>17</td>\n",
       "      <td>10</td>\n",
       "      <td>15</td>\n",
       "      <td>42</td>\n",
       "    </tr>\n",
       "    <tr>\n",
       "      <th>...</th>\n",
       "      <td>...</td>\n",
       "      <td>...</td>\n",
       "      <td>...</td>\n",
       "      <td>...</td>\n",
       "      <td>...</td>\n",
       "    </tr>\n",
       "    <tr>\n",
       "      <th>81</th>\n",
       "      <td>Morocco(MAR)</td>\n",
       "      <td>0</td>\n",
       "      <td>0</td>\n",
       "      <td>1</td>\n",
       "      <td>1</td>\n",
       "    </tr>\n",
       "    <tr>\n",
       "      <th>82</th>\n",
       "      <td>Nigeria(NGR)</td>\n",
       "      <td>0</td>\n",
       "      <td>0</td>\n",
       "      <td>1</td>\n",
       "      <td>1</td>\n",
       "    </tr>\n",
       "    <tr>\n",
       "      <th>83</th>\n",
       "      <td>United Arab Emirates(UAE)</td>\n",
       "      <td>0</td>\n",
       "      <td>0</td>\n",
       "      <td>1</td>\n",
       "      <td>1</td>\n",
       "    </tr>\n",
       "    <tr>\n",
       "      <th>84</th>\n",
       "      <td>Portugal(POR)</td>\n",
       "      <td>0</td>\n",
       "      <td>0</td>\n",
       "      <td>1</td>\n",
       "      <td>1</td>\n",
       "    </tr>\n",
       "    <tr>\n",
       "      <th>85</th>\n",
       "      <td>Austria(AUT)</td>\n",
       "      <td>0</td>\n",
       "      <td>0</td>\n",
       "      <td>1</td>\n",
       "      <td>1</td>\n",
       "    </tr>\n",
       "  </tbody>\n",
       "</table>\n",
       "<p>86 rows × 5 columns</p>\n",
       "</div>"
      ],
      "text/plain": [
       "                          NOC Gold Silver Bronze Total\n",
       "0          United States(USA)   46     37     38   121\n",
       "1          Great Britain(GBR)   27     23     17    67\n",
       "2                  China(CHN)   26     18     26    70\n",
       "3                 Russia(RUS)   19     17     20    56\n",
       "4                Germany(GER)   17     10     15    42\n",
       "..                        ...  ...    ...    ...   ...\n",
       "81               Morocco(MAR)    0      0      1     1\n",
       "82               Nigeria(NGR)    0      0      1     1\n",
       "83  United Arab Emirates(UAE)    0      0      1     1\n",
       "84              Portugal(POR)    0      0      1     1\n",
       "85               Austria(AUT)    0      0      1     1\n",
       "\n",
       "[86 rows x 5 columns]"
      ]
     },
     "execution_count": 7,
     "metadata": {},
     "output_type": "execute_result"
    }
   ],
   "source": [
    "s.sort_medals()"
   ]
  },
  {
   "cell_type": "markdown",
   "metadata": {},
   "source": [
    "### Description :"
   ]
  },
  {
   "cell_type": "markdown",
   "metadata": {},
   "source": [
    "Description here"
   ]
  },
  {
   "cell_type": "markdown",
   "metadata": {},
   "source": [
    "-------------------------------"
   ]
  }
 ],
 "metadata": {
  "kernelspec": {
   "display_name": "Python 3",
   "language": "python",
   "name": "python3"
  },
  "language_info": {
   "codemirror_mode": {
    "name": "ipython",
    "version": 3
   },
   "file_extension": ".py",
   "mimetype": "text/x-python",
   "name": "python",
   "nbconvert_exporter": "python",
   "pygments_lexer": "ipython3",
   "version": "3.7.7"
  }
 },
 "nbformat": 4,
 "nbformat_minor": 2
}
