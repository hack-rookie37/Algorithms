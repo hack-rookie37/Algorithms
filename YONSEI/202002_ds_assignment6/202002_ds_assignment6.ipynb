{
 "cells": [
  {
   "cell_type": "markdown",
   "metadata": {},
   "source": [
    "> ### EEE2020-01: Data Structures & Algorithms\n",
    "\n",
    "# Assignment \\# VI: Graphs"
   ]
  },
  {
   "cell_type": "markdown",
   "metadata": {},
   "source": [
    "**<div style=\"text-align: right\"> Due date: December 19, 2020. </div>** \n",
    "**<div style=\"text-align: right\"> Please upload your file @ yscec by 9:00 PM. </div>** \n",
    "<div style=\"text-align: right\"> Jaehyeon Moon(문재현): <a href=\"mailto:tw02137@yonsei.ac.kr\">tw02137@yonsei.ac.kr</a> </div>\n",
    "<div style=\"text-align: right\"> Donghyeon Baek(백동현): <a href=\"mailto:dh_baek@yonsei.ac.kr\">dh_baek@yonsei.ac.kr</a> "
   ]
  },
  {
   "cell_type": "markdown",
   "metadata": {},
   "source": [
    "-------------------------------"
   ]
  },
  {
   "cell_type": "markdown",
   "metadata": {},
   "source": [
    "\n",
    "### *Assignment Instructions:*\n",
    "1. Write a program implementing a particular algorithm to solve a given problem.\n",
    "2. You can use both Korean and English for your report.\n",
    "3. **Analyze the algorithm, theoretically and empirically.** \n",
    "4. **Report your results.**   \n",
    "    - You must do assignments and labs yourself. \n",
    "    - <span style=\"color:red\">**Do not copy any part of your friends’ code.**</span>\n",
    "    - Otherwise, you will get a F grade."
   ]
  },
  {
   "cell_type": "markdown",
   "metadata": {},
   "source": [
    "-----------------"
   ]
  },
  {
   "cell_type": "markdown",
   "metadata": {},
   "source": [
    "<h2><span style=\"color:blue\">[Insert your ID HERE] [Insert your name HERE]</span> </h2>"
   ]
  },
  {
   "cell_type": "code",
   "execution_count": 1,
   "metadata": {},
   "outputs": [
    {
     "name": "stdout",
     "output_type": "stream",
     "text": [
      "This code is written at 2020-11-26 12:02:37.918863\n"
     ]
    }
   ],
   "source": [
    "import datetime\n",
    "print(\"This code is written at \" + str(datetime.datetime.now()))\n",
    "\n",
    "from assignment6_solution import Graph, kruskal, prim, PointVertex, PointGraph, bellman_ford"
   ]
  },
  {
   "cell_type": "markdown",
   "metadata": {},
   "source": [
    "-------------------------------"
   ]
  },
  {
   "cell_type": "markdown",
   "metadata": {},
   "source": [
    "### # PROBLEM I (40 POINTS)"
   ]
  },
  {
   "cell_type": "markdown",
   "metadata": {},
   "source": [
    "`assignment6.py` 파일에 주어진 **Graph** 객체 $graph$에 대하여,\n",
    "> (a) $kruskal(graph)$ 함수를 완성하시오.   \n",
    "> 해당 함수는 **Kruskal 알고리즘**을 이용하여, 입력 받은 $graph$ (**Graph** 객체) 내의 **MST**를 찾은 후 **Graph** 객체 형태로 반환한다.   \n",
    ">\n",
    ">\n",
    "> (b) $prim(graph,\\ start\\_vertex)$ 함수를 완성하시오.  \n",
    "> 해당 함수는 **Prim 알고리즘**을 이용하여, 입력받은 $start\\_vertex$ 부터 $graph$ (**Graph** 객체) 내의 **MST**를 찾은 뒤 **Graph** 객체 형태로 반환한다.   \n",
    "\n",
    "**조건**\n",
    "> 1. `assignment6.py` 파일에 주어진 **PriorityQueue** 객체를 이용할 것.  \n",
    "> 2. `assignment6.py` 파일에 주어진 **Vertex, Graph, PriorityQueue** class를 수정하지 않을 것.\n",
    "\n",
    "Hint : 두 함수는 undirected graph에만 적용된다."
   ]
  },
  {
   "cell_type": "code",
   "execution_count": 2,
   "metadata": {},
   "outputs": [
    {
     "name": "stdout",
     "output_type": "stream",
     "text": [
      "A is connected to\n",
      "B : 1\n",
      "C : 2\n",
      "--------------------\n",
      "C is connected to\n",
      "A : 2\n",
      "D : 4\n",
      "E : 5\n",
      "F : 6\n",
      "--------------------\n",
      "F is connected to\n",
      "C : 6\n",
      "--------------------\n",
      "B is connected to\n",
      "A : 1\n",
      "--------------------\n",
      "D is connected to\n",
      "C : 4\n",
      "--------------------\n",
      "E is connected to\n",
      "C : 5\n",
      "--------------------\n"
     ]
    }
   ],
   "source": [
    "g = Graph()\n",
    "\n",
    "g.addVertex('A')\n",
    "g.addVertex('B')\n",
    "g.addVertex('C')\n",
    "g.addVertex('D')\n",
    "g.addVertex('E')\n",
    "g.addVertex('F')\n",
    "\n",
    "g.addEdge('A', 'B', 1)\n",
    "g.addEdge('B', 'A', 1)\n",
    "g.addEdge('A', 'C', 2)\n",
    "g.addEdge('C', 'A', 2)\n",
    "g.addEdge('B', 'C', 3)\n",
    "g.addEdge('C', 'B', 3)\n",
    "g.addEdge('C', 'D', 4)\n",
    "g.addEdge('D', 'C', 4)\n",
    "g.addEdge('C', 'E', 5)\n",
    "g.addEdge('E', 'C', 5)\n",
    "g.addEdge('C', 'F', 6)\n",
    "g.addEdge('F', 'C', 6)\n",
    "g.addEdge('D', 'E', 7)\n",
    "g.addEdge('E', 'D', 7)\n",
    "g.addEdge('E', 'F', 8)\n",
    "g.addEdge('F', 'E', 8)\n",
    "\n",
    "g_mst = kruskal(g)\n",
    "g_mst2 = prim(g, 'A')\n",
    "\n",
    "alphabets = ['A', 'C', 'F']\n",
    "for alpha in alphabets:\n",
    "    print(alpha, 'is connected to')\n",
    "    for k, v in g_mst.vertList[alpha].connectedTo.items():\n",
    "        print(k.getId(), ':', v)\n",
    "    print('-' * 20)\n",
    "\n",
    "remain_alphabets = ['B', 'D', 'E']\n",
    "for alpha in remain_alphabets:\n",
    "    print(alpha, 'is connected to')\n",
    "    for k, v in g_mst2.vertList[alpha].connectedTo.items():\n",
    "        print(k.getId(), ':', v)\n",
    "    print('-' * 20)"
   ]
  },
  {
   "cell_type": "markdown",
   "metadata": {},
   "source": [
    "### Description :"
   ]
  },
  {
   "cell_type": "markdown",
   "metadata": {},
   "source": [
    "Description here"
   ]
  },
  {
   "cell_type": "markdown",
   "metadata": {},
   "source": [
    "-------------------------------"
   ]
  },
  {
   "cell_type": "markdown",
   "metadata": {},
   "source": [
    "### \\# PROBLEM II (60 POINTS)"
   ]
  },
  {
   "cell_type": "markdown",
   "metadata": {},
   "source": [
    "(a) 다음 조건을 만족하는 **PointGraph**, **PointVertex** class를 구현하시오.\n",
    "\n",
    "**조건**\n",
    "> 1. PointGraph는 Graph 객체 생성을 위한 class이며, $thres$(edge 연결을 위한 임계치, 조건2 참조, float 형)로 초기화된다. \n",
    ">\n",
    ">    PointVertex class은 그래프 안의 노드 생성을 위한 class이며, $key,\\ x,\\ y,\\ reward$로 초기화된다.  \n",
    ">> * $key$ : 해당 노드의 이름을 지칭한다.  \n",
    ">>\n",
    ">>\n",
    ">> * $x,\\ y$ : 해당 노드의 x, y 좌표를 지칭한다.\n",
    ">>\n",
    ">>\n",
    ">> * $reward$ : 해당 노드에 도달할 시 얻는 보상을 지칭한다.  \n",
    ">\n",
    ">\n",
    "> NOTE #1: 두 노드 $A,\\ B$ 간 거리는 $\\sqrt{(A.x - B.x)^{2} + (A.y - B.y)^{2}}$로 정의됨.   \n",
    "> NOTE #2: 두 노드 $A,\\ B$ 간 reward의 차이는 $A.reward\\ -\\ B.reward$로 정의됨.\n",
    ">\n",
    ">\n",
    "> 2. 각 node 사이를 연결하는 edge는 다음과 같이 할당된다.  \n",
    ">> * 두 노드 $A,\\ B$ 간 거리가 $thres$ 이상이면, 두 노드 사이는 edge로 연결하지 않는다.\n",
    ">>\n",
    ">>\n",
    ">> * 두 노드 $A,\\ B$ 간 거리가 $thres$ 미만이면, 다음과 같이 edge를 할당한다.  \n",
    ">>> * $A.reward$가 $B.reward$보다 크거나 같으면, $B$에서 $A$ 방향으로 $\\sqrt{(A.x - B.x)^{2} + (A.y - B.y)^{2}}\\ +\\ B.reward-\\ A.reward$ 의 가중치(weight)를 가지는 edge를 연결한다.  \n",
    ">>> * $B.reward$가 $A.reward$보다 크거나 같으면, 반대 방향으로 $\\sqrt{(A.x - B.x)^{2} + (A.y - B.y)^{2}}\\ +\\ A.reward-\\ B.reward$ 의 가중치(weight)를 가지는 edge를 연결한다.  \n",
    ">\n",
    ">\n",
    "> 3. PointGraph class는 다음과 같은 함수를 포함한다.\n",
    ">> * $add\\_vertex(vertex)$ : PointVertex 객체 $vertex$를 입력으로 받아, 그래프 내에 추가한다.  \n",
    "이에 따라, **조건 2**를 만족하도록 그래프 내에 edge가 추가되어야 한다.\n",
    ">>\n",
    ">>\n",
    ">> * $add\\_edge(src, dst, val)$ : PointVertex 객체 $src,\\ dst$ 노드와 사이에 edge를 추가한다. 이때 edge의 weight는 입력받은 float형 객체 $val$로 설정한다. 이미 두 노드 사이를 연결하는 edge가 있을 경우, 기존 edge의 weight를 $val$로 수정한다.\n",
    ">>\n",
    ">>\n",
    ">> * $\\_\\_str\\_\\_()$ : 그래프 내의 각 노드에 대하여 해당 노드와 directed edge로 연결된 모든 노드와의 edge weight를 출력한다. 예제를 참고할 것.\n",
    "\n",
    "(b) $bellman\\_ford(graph,\\ start\\_vertex)$ 함수를 완성하시오.  \n",
    "해당 함수는 **Bellman-Ford 알고리즘**을 이용하여, 주어진 $graph$(PointGraph 객체)의 $start\\_vertex$(PointVertex 객체)에서 출발하여 다른 모든 node까지의 shortest path를 dictionary 형태로 반환한다. \n",
    "단, negative cycle이 있을 경우 None을 반환한다."
   ]
  },
  {
   "cell_type": "code",
   "execution_count": 3,
   "metadata": {},
   "outputs": [
    {
     "name": "stdout",
     "output_type": "stream",
     "text": [
      "Node A\n",
      "B : 5.00\n",
      "C : 3.00\n",
      "Node B\n",
      "Node C\n",
      "D : 1.00\n",
      "Node D\n",
      "\n",
      "--------------------\n",
      "Node A\n",
      "B : 5.00\n",
      "C : 3.00\n",
      "Node B\n",
      "C : -4.00\n",
      "Node C\n",
      "D : 1.00\n",
      "Node D\n",
      "\n"
     ]
    }
   ],
   "source": [
    "a = PointVertex('A', 0, 0, 0)\n",
    "b = PointVertex('B', 6, 0, 1)\n",
    "c = PointVertex('C', 0, 5, 2)\n",
    "d = PointVertex('D', 0, 7, 3)\n",
    "\n",
    "g = PointGraph(7)\n",
    "g.add_vertex(a)\n",
    "g.add_vertex(b)\n",
    "g.add_vertex(c)\n",
    "g.add_vertex(d)\n",
    "\n",
    "print(g)\n",
    "print('-' * 20)\n",
    "g.add_edge(b, c, -4)\n",
    "print(g)"
   ]
  },
  {
   "cell_type": "code",
   "execution_count": 4,
   "metadata": {},
   "outputs": [
    {
     "data": {
      "text/plain": [
       "{'A': 0, 'B': 5.0, 'C': 1.0, 'D': 2.0}"
      ]
     },
     "execution_count": 4,
     "metadata": {},
     "output_type": "execute_result"
    }
   ],
   "source": [
    "bellman_ford(g, a)"
   ]
  },
  {
   "cell_type": "markdown",
   "metadata": {},
   "source": [
    "### Description :"
   ]
  },
  {
   "cell_type": "markdown",
   "metadata": {},
   "source": [
    "Description here"
   ]
  },
  {
   "cell_type": "markdown",
   "metadata": {},
   "source": [
    "-------------------------------"
   ]
  }
 ],
 "metadata": {
  "kernelspec": {
   "display_name": "Python 3",
   "language": "python",
   "name": "python3"
  },
  "language_info": {
   "codemirror_mode": {
    "name": "ipython",
    "version": 3
   },
   "file_extension": ".py",
   "mimetype": "text/x-python",
   "name": "python",
   "nbconvert_exporter": "python",
   "pygments_lexer": "ipython3",
   "version": "3.7.7"
  }
 },
 "nbformat": 4,
 "nbformat_minor": 2
}
