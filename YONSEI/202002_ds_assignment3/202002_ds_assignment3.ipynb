{
 "cells": [
  {
   "cell_type": "markdown",
   "metadata": {},
   "source": [
    "> ### EEE2020: Data Structures & Algorithms\n",
    "\n",
    "# Assignment \\# III: Recursion & Dynamic Programming"
   ]
  },
  {
   "cell_type": "markdown",
   "metadata": {},
   "source": [
    "<div style=\"text-align: right\"> **Due date: October 31, 2020.** </div> \n",
    "<div style=\"text-align: right\"> **Please upload your file @ yscec by 9 PM.** </div> \n",
    "<br>\n",
    "<div style=\"text-align: right\"> Donghyeon Baek(백동현): <a href=\"mailto:dh_baek@yonsei.ac.kr\">dh_baek@yonsei.ac.kr</a> \n",
    "<div style=\"text-align: right\"> Jaehyeon Moon(문재현): <a href=\"mailto:tw02137@yonsei.ac.kr\">tw02137@yonsei.ac.kr</a> </div>\n",
    "</div>"
   ]
  },
  {
   "cell_type": "markdown",
   "metadata": {},
   "source": [
    "-------------------------------"
   ]
  },
  {
   "cell_type": "markdown",
   "metadata": {},
   "source": [
    "\n",
    "### *Assignment Instructions:*\n",
    "1. Write a program implementing a particular algorithm to solve a given problem.\n",
    "2. You can use both Korean and Engligh for your report.\n",
    "3. Since this is your first assignment of the course, comprehensive instructions are given for particular problems.  \n",
    " However, note that this might not be the case for further assignments over the course.\n",
    "4. **Analyze the algorithm, theoretically and empirically, and write discussion.** \n",
    "5. **Report your results.**  \n",
    "    - You must do assignments and labs yourself. \n",
    "    - <span style=\"color:red\">**Do not copy any part of your friends’ code.**</span>\n",
    "    - Otherwise, you will get a F grade."
   ]
  },
  {
   "cell_type": "markdown",
   "metadata": {},
   "source": [
    "-----------------"
   ]
  },
  {
   "cell_type": "markdown",
   "metadata": {},
   "source": [
    "<h2><span style=\"color:blue\">[Insert your ID HERE] [Insert your name HERE]</span> </h2>"
   ]
  },
  {
   "cell_type": "code",
   "execution_count": 1,
   "metadata": {},
   "outputs": [
    {
     "name": "stdout",
     "output_type": "stream",
     "text": [
      "This code is written at 2020-10-14 02:37:45.976219\n"
     ]
    }
   ],
   "source": [
    "import datetime\n",
    "print(\"This code is written at \" + str(datetime.datetime.now()))"
   ]
  },
  {
   "cell_type": "markdown",
   "metadata": {},
   "source": [
    "-------------------------------"
   ]
  },
  {
   "cell_type": "markdown",
   "metadata": {},
   "source": [
    "### PROBLEM I - Recursive and Dynamic Programming (45 POINTS)"
   ]
  },
  {
   "cell_type": "markdown",
   "metadata": {},
   "source": [
    "0과 1만 사용하여 아래의 조건을 모두 만족하며, 길이가 N인 수열은 총 몇 개인지 출력하는 함수를 완성하시오.\n",
    "> **Conditions**\n",
    "> - 0으로 시작하여 0으로 끝난다.\n",
    ">\n",
    "> - 0은 두 번 연속하여 존재하지 않는다.\n",
    ">\n",
    "> - 1이 세 번 연속하여 존재하지 않는다.\n",
    ">\n",
    "> - N은 자연수이다.\n",
    "\n",
    "#### Example\n",
    "- 조건을 만족하는 수열\n",
    ">\n",
    "> 예) 010, 0110, 01010\n",
    ">\n",
    "- 조건을 만족하지 않는 수열\n",
    ">\n",
    "> 예) 0100, 01110, 01100110"
   ]
  },
  {
   "cell_type": "markdown",
   "metadata": {},
   "source": [
    "### 1-1. 위 문제를 풀기 위한 점화식을 설계하시오. (10점)"
   ]
  },
  {
   "cell_type": "markdown",
   "metadata": {},
   "source": [
    "점화식을 세우고 밑의 $\\texttt{Markdown}$을 이용하여 점화식을 작성하고 풀이를 서술하시오. "
   ]
  },
  {
   "cell_type": "markdown",
   "metadata": {},
   "source": [
    "#### Describe your answer:"
   ]
  },
  {
   "cell_type": "markdown",
   "metadata": {},
   "source": [
    "Answer and Description Here"
   ]
  },
  {
   "cell_type": "markdown",
   "metadata": {},
   "source": [
    "### 1-2. Recursion을 이용하여 문제를 푸시오. (15점)"
   ]
  },
  {
   "cell_type": "markdown",
   "metadata": {},
   "source": [
    "$\\texttt{problem1.py}$의 함수를 완성하시오.\n",
    "\n",
    "```python\n",
    "def Recursion(N):```\n",
    "\n",
    "> Input Variable:\n",
    "> - $\\texttt{N}$ : $\\texttt{int}$ type의 자연수"
   ]
  },
  {
   "cell_type": "markdown",
   "metadata": {},
   "source": [
    "#### Sample code"
   ]
  },
  {
   "cell_type": "code",
   "execution_count": null,
   "metadata": {},
   "outputs": [],
   "source": [
    "from problem1 import Recursion\n",
    "print(Recursion(19))"
   ]
  },
  {
   "cell_type": "markdown",
   "metadata": {},
   "source": [
    "#### Describe your answer:"
   ]
  },
  {
   "cell_type": "markdown",
   "metadata": {},
   "source": [
    "Description Here"
   ]
  },
  {
   "cell_type": "markdown",
   "metadata": {},
   "source": [
    "### 1-3. Dynamic Programming을 이용하여 문제를 푸시오. (15점)"
   ]
  },
  {
   "cell_type": "markdown",
   "metadata": {},
   "source": [
    "$\\texttt{problem1.py}$의 함수를 완성하시오.\n",
    "\n",
    "```python\n",
    "def DP(N):```\n",
    "\n",
    "> Input Variable:\n",
    "> - $\\texttt{N}$ : $\\texttt{int}$ type의 자연수"
   ]
  },
  {
   "cell_type": "markdown",
   "metadata": {},
   "source": [
    "#### Sample Code"
   ]
  },
  {
   "cell_type": "code",
   "execution_count": null,
   "metadata": {},
   "outputs": [],
   "source": [
    "from problem1 import DP\n",
    "print(DP(19))"
   ]
  },
  {
   "cell_type": "markdown",
   "metadata": {},
   "source": [
    "#### Describe your answer:"
   ]
  },
  {
   "cell_type": "markdown",
   "metadata": {},
   "source": [
    "Description Here"
   ]
  },
  {
   "cell_type": "markdown",
   "metadata": {},
   "source": [
    "### 1-4. Recursion vs. Dynamic Programming 시간 분석 (5점)"
   ]
  },
  {
   "cell_type": "markdown",
   "metadata": {},
   "source": [
    "**문제 1-2**과 **1-3**의 두 코드에 대해서 $\\texttt{N}$이 증가함에 따라 경과되는 시간에 대한 그래프를 그리고 결과에 대해 분석하시오.\n",
    "> - $\\texttt{x}$축은 $\\texttt{N}$, $\\texttt{y}$축은 함수 동작 시간(초)으로 한다.\n",
    "> - 한 그래프 안에 두 알고리즘을 함께 나타내도록 하며, 범례(legend)와 함께 출력한다.\n",
    "> - $\\texttt{N}$의 범위는 그래프의 경향성이 보이도록 임의로 설정한다.\n",
    "> - 시간을 측정하는 코드는 아래의 제공된 sample code를 참고한다."
   ]
  },
  {
   "cell_type": "markdown",
   "metadata": {
    "id": "fFXus8ZpqIRZ"
   },
   "source": [
    "#### Sample Code"
   ]
  },
  {
   "cell_type": "code",
   "execution_count": 3,
   "metadata": {
    "id": "fFXus8ZpqIRZ",
    "scrolled": true
   },
   "outputs": [
    {
     "name": "stdout",
     "output_type": "stream",
     "text": [
      "Elapsed Time (sec):  1.0126245021820068\n"
     ]
    }
   ],
   "source": [
    "import time\n",
    "\n",
    "start = time.time()\n",
    "for i in range(100):\n",
    "    time.sleep(0.01) # Pause 0.01 second\n",
    "print(\"Elapsed Time (sec): \", time.time()-start)"
   ]
  },
  {
   "cell_type": "markdown",
   "metadata": {},
   "source": [
    "#### Answer"
   ]
  },
  {
   "cell_type": "code",
   "execution_count": null,
   "metadata": {},
   "outputs": [],
   "source": [
    "import time\n",
    "import matplotlib.pyplot as plt\n",
    "\n",
    "## CODE HERE ##"
   ]
  },
  {
   "cell_type": "markdown",
   "metadata": {},
   "source": [
    "#### Describe your answer:"
   ]
  },
  {
   "cell_type": "markdown",
   "metadata": {},
   "source": [
    "Description Here"
   ]
  },
  {
   "cell_type": "markdown",
   "metadata": {},
   "source": [
    "-------------------------------"
   ]
  },
  {
   "cell_type": "markdown",
   "metadata": {},
   "source": [
    "### PROBLEM II - Dynamic Programming (55 POINTS)"
   ]
  },
  {
   "cell_type": "markdown",
   "metadata": {},
   "source": [
    "철수는 커다란 직사각형 타일을 재단하여 원하는 크기에 해당하는 타일들로 쪼개고 싶어한다. 철수가 가진 타일 원판의 크기는 가로, 세로가 $W \\times H$인 타일이며, $W_{1}\\times H_{1}, W_{2}\\times H_{2}, ..., W_{n}\\times H_{n}$인 직사각형 모양의 타일 여러 장이 필요한 상태이다.\n",
    "\n",
    "타일은 임의의 정수 위치에서 가로나 세로로 완전히 잘라, 두 개의 직사각형 모양의 타일을 얻을 수 있다. 하지만 작은 타일들을 붙여서 하나의 타일로 만들 수는 없다. 또한, 타일에는 일정한 방향의 무늬가 있어, 회전해서 원하는 크기를 만들 수는 없다. 즉, $A \\times B$라는 크기로 잘랐다면 이것을 $B \\times A$라는 크기에 맞추어 사용할 수는 없다는 뜻이다. 타일을 재단하여 원하는 크기에 해당하는 면을 모두 잘라 낸 뒤, 어느 크기로도 쪼갤 수 없어 남게 된 면들은 버려진다. 철수는 타일을 어떻게 자르면 버려지는 타일의 넓이가 최소가 되는지 알고 싶어한다.\n",
    "\n",
    "원판의 타일 크기와 우리가 원하는 타일의 크기들을 입력 받은 뒤, 가장 효율적으로 돌판을 자르는 방법을 계산하여 그때 버려지는 최소한의 타일 면적의 합을 구하는 프로그램을 작성하시오. 어느 크기의 돌판을 얼마나 얻느냐가 아닌, 버려지는 타일의 넓이를 줄이는 것이 목적이다."
   ]
  },
  {
   "cell_type": "markdown",
   "metadata": {},
   "source": [
    "#### Conditions\n",
    "- $1 \\le H_{n} \\le H$\n",
    "- $1 \\le W_{n} \\le W$"
   ]
  },
  {
   "cell_type": "markdown",
   "metadata": {},
   "source": [
    "#### Example\n",
    "가로 길이가 21이고 세로 길이가 11인 커다란 타일을 예로 들어 보자. 그리고 우리에게 필요한 타일 크기의 종류가 10×4, 6×2, 7×5, 그리고 15×10이라고 가정하자. 이 경우 타일을 아래 그림과 같이 자르면, 각 크기에 해당하는 석판을 각각 두 장, 세 장, 세 장씩 얻으면서 버려지는 영역의 넓이는 10으로 가장 작게 된다. 이때, 15×10 크기의 타일처럼 만들지 않는 타일도 존재할 수 있다.\n",
    "\n",
    "<img src = \"https://drive.google.com/uc?id=1uxc8a0W6ffkoVBBN4LNXTmgEVaL-OtUQ\" alt=\"add_attribute\" width=\"300\">"
   ]
  },
  {
   "cell_type": "markdown",
   "metadata": {},
   "source": [
    "#### Details\n",
    "1. 타일을 가로나 세로로 완전히 자른다는 것은 아래의 그림과 같이 세로로 자르던 도중 가로로 자를 수 없다는 뜻이다.\n",
    "\n",
    "<img src = \"https://drive.google.com/uc?id=1p5D5ThTkXU8FTRjrwnXaZxx0o1A4Zlyg\" alt=\"add_attribute\" width=\"300\">\n",
    "\n",
    "2. Example의 결과를 얻기 위한 자르는 순서는 아래와 같으며, 자르는 방법과 순서는 유일하지 않을 수 있다. 다만, 버려지는 타일의 넓이의 최소 값은 10으로 동일하다.\n",
    "\n",
    "<img src = \"https://drive.google.com/uc?id=1CtWJatwkcyLErVNxz8O8afXDZAw1icA_\" alt=\"add_attribute\" width=\"600\">"
   ]
  },
  {
   "cell_type": "markdown",
   "metadata": {},
   "source": [
    "### 2-1. 한 가지 종류의 타일로 재단할 때의 Dynamic Table을 완성하시오. (10점)"
   ]
  },
  {
   "cell_type": "markdown",
   "metadata": {},
   "source": [
    "철수는 $\\texttt{Dynamic Programming}$을 이용하여 문제를 풀려고 한다. 하지만 코딩을 하기에 앞서 각 경우마다 버려지는 넓이를 $\\texttt{Dynamic Table}$을 통해 손으로 계산해 보고자 한다.\n",
    "\n",
    "원판 타일의 크기가 가로 세로 $9 \\times 6$이고, $2 \\times 3$ 한 종류의 타일을 얻고자 한다. 이 경우의 문제를 풀기 위한 $\\texttt{Dynamic Table}$을 채우시오.\n",
    "\n",
    "> $\\texttt{Dynamic Table}$의 값은 재단 후 버려지는 넓이를 의미한다. 열 제목(Column header)과 행 제목(Row header)이 각 타일 원판의 가로 세로 크기를 의미한다. 예를 들어 아래에 제공된 Dynamic Table의 'V'표기가 되어있는 (4,5)는 가로 크기가 4, 세로 크기는 5인 원판을 재단할 때, 버려지는 타일의 넓이를 의미한다.\n",
    "> \n",
    "> 아래의 $\\texttt{Dynamic Table}$은 크기가 $1 \\times 1$부터 $9 \\times 6$까지의 총 54가지의 원판을 $2 \\times 3$ 크기의 타일로 재단할 때 버려지는 넓이가 모두 적힌 테이블이다. 최종적으로 (9,6)의 값이 $9 \\times 6$ 원판을 $2 \\times 3$으로 재단할 때 버려지는 넓이를 의미한다.\n",
    ">\n",
    "> 가로 세로 크기가 $2 \\times 3$인 원판의 경우, 해당 원판이 재단하고자 하는 타일의 크기와 동일하기 때문에 별도의 재단이 필요하지 않는다. 이 경우 버려지는 넓이는 0이 된다. 즉, (2,3)의 경우 0이다.\n",
    ">\n",
    "> 가로 세로 크기가 $1 \\times 1$인 원판의 경우, 해당 원판으로는 재단하고자 하는 타일을 만들 수 없다. 이 경우 원판 전체가 버려지므로, 버려지는 넓이는 1이 된다. 즉, (1,1)의 경우 1이다."
   ]
  },
  {
   "cell_type": "markdown",
   "metadata": {},
   "source": [
    "아래의 셀의 Markdown을 수정하여 아래의 $\\texttt{Dynamic Table}$을 채우시오. ('V' 표기가 되어있는 부분도 채워야 한다.)"
   ]
  },
  {
   "cell_type": "markdown",
   "metadata": {},
   "source": [
    "|       | 1 | 2 | 3 | 4 | 5 | 6 | 7 | 8 | 9 |\n",
    "|-------|---|---|---|---|---|---|---|---|---|\n",
    "| **1** |   |   |   |   |   |   |   |   |   |\n",
    "| **2** |   |   |   |   |   |   |   |   |   |\n",
    "| **3** |   |   |   |   |   |   |   |   |   |\n",
    "| **4** |   |   |   |   |   |   |   |   |   |\n",
    "| **5** |   |   |   | V |   |   |   |   |   |\n",
    "| **6** |   |   |   |   |   |   |   |   |   |"
   ]
  },
  {
   "cell_type": "markdown",
   "metadata": {},
   "source": [
    "#### Describe your answer:"
   ]
  },
  {
   "cell_type": "markdown",
   "metadata": {},
   "source": [
    "Description Here"
   ]
  },
  {
   "cell_type": "markdown",
   "metadata": {},
   "source": [
    "### 2-2. 두 가지 종류의 타일로 재단할 때의 Dynamic Table을 완성하시오. (10점)"
   ]
  },
  {
   "cell_type": "markdown",
   "metadata": {},
   "source": [
    "재단하려는 타일의 모양이 각각 $2 \\times 3$과 $5 \\times 2$일 때의 $\\texttt{Dynamic Table}$을 완성하시오. 원판 타일의 크기는 **문제 2-1**과 동일한 가로 세로 $9 \\times 6$이다."
   ]
  },
  {
   "cell_type": "markdown",
   "metadata": {},
   "source": [
    "|       | 1 | 2 | 3 | 4 | 5 | 6 | 7 | 8 | 9 |\n",
    "|-------|---|---|---|---|---|---|---|---|---|\n",
    "| **1** |   |   |   |   |   |   |   |   |   |\n",
    "| **2** |   |   |   |   |   |   |   |   |   |\n",
    "| **3** |   |   |   |   |   |   |   |   |   |\n",
    "| **4** |   |   |   |   |   |   |   |   |   |\n",
    "| **5** |   |   |   |   |   |   |   |   |   |\n",
    "| **6** |   |   |   |   |   |   |   |   |   |"
   ]
  },
  {
   "cell_type": "markdown",
   "metadata": {},
   "source": [
    "#### Describe your answer:"
   ]
  },
  {
   "cell_type": "markdown",
   "metadata": {},
   "source": [
    "Description Here"
   ]
  },
  {
   "cell_type": "markdown",
   "metadata": {},
   "source": [
    "### 2-3. Dynamic Programming을 풀기 위한 점화식을 설계하시오. (10점)"
   ]
  },
  {
   "cell_type": "markdown",
   "metadata": {},
   "source": [
    "$\\texttt{Dynamic Programming}$으로 물제를 풀기 위해서는 점화식을 세우는 것이 우선적이다. **문제 2-1**과 **2-2**를 통해 얻은 관계 및 규칙성을 바탕으로 본인만의 점화식을 세우고 방법을 서술하시오. "
   ]
  },
  {
   "cell_type": "markdown",
   "metadata": {},
   "source": [
    "#### Describe your answer:"
   ]
  },
  {
   "cell_type": "markdown",
   "metadata": {},
   "source": [
    "Answer and Description Here"
   ]
  },
  {
   "cell_type": "markdown",
   "metadata": {},
   "source": [
    "### 2-4. Dynamic Programming을 이용하여 함수를 완성하시오. (25점)"
   ]
  },
  {
   "cell_type": "markdown",
   "metadata": {},
   "source": [
    "$\\texttt{problem2.py}$의 함수를 완성하시오.\n",
    "```python\n",
    "def problem2(width, height, desired_size):```\n",
    "\n",
    "> Input Variables:\n",
    "> - $\\texttt{width}$ : $\\texttt{int}$ type의 자연수, 원판의 가로 크기를 나타냄.\n",
    "> - $\\texttt{height}$ : $\\texttt{int}$ type의 자연수, 원판의 세로 크기를 나타냄.\n",
    "> - $\\texttt{desired_size}$ : $\\texttt{tuple}$을 원소로 가지는 $\\texttt{list}$, 재단하려는 타일들의 크기를 $\\texttt{list}$ 형태로 가지는 변수.\n",
    ">\n",
    ">   e.g.) 재단하려는 크기가 (2,3), (5,2) 두 가지인 경우, `desired_size = [(2,3), (5,2)]`\n",
    "\n",
    "#### Caution\n",
    "- 문제는 반드시 $\\texttt{Dynamic Programming}$을 이용하여 풀어야하며, $\\texttt{Recursive}$을 사용하는 경우 0점 처리된다.\n",
    "- 필요시 다른 함수를 선언하여 사용하여도 된다."
   ]
  },
  {
   "cell_type": "markdown",
   "metadata": {},
   "source": [
    "#### Sample Code"
   ]
  },
  {
   "cell_type": "code",
   "execution_count": 1,
   "metadata": {},
   "outputs": [],
   "source": [
    "from problem2 import problem2"
   ]
  },
  {
   "cell_type": "code",
   "execution_count": null,
   "metadata": {},
   "outputs": [],
   "source": [
    "# 2-1\n",
    "desired_size = [(2,3)]\n",
    "print('Wasted Tile area: %d' % (problem2(9,6, desired_size)))"
   ]
  },
  {
   "cell_type": "code",
   "execution_count": null,
   "metadata": {},
   "outputs": [],
   "source": [
    "# 2-2\n",
    "desired_size = [(2,3), (5,2)]\n",
    "print('Wasted Tile area: %d' % (problem2(9,6, desired_size)))"
   ]
  },
  {
   "cell_type": "code",
   "execution_count": 14,
   "metadata": {},
   "outputs": [
    {
     "name": "stdout",
     "output_type": "stream",
     "text": [
      "Wasted Tile area: 10\n",
      "Elapsed Time: 0.002sec\n"
     ]
    }
   ],
   "source": [
    "# Time test\n",
    "desired_size = [(10,4), (6,2), (7,5), (15,10)]\n",
    "import time\n",
    "start = time.time()\n",
    "print('Wasted Tile area: %d' % (problem2(21,11, desired_size)))\n",
    "end = time.time()\n",
    "print('Elapsed Time: %.3fsec' % (end-start))"
   ]
  },
  {
   "cell_type": "markdown",
   "metadata": {},
   "source": [
    "#### Describe your answer:\n",
    "> 주석 및 Descrption을 이용하여 코드를 **문제 2-3**에서 구한 점화식과 연계하여 설명하기 바랍니다."
   ]
  },
  {
   "cell_type": "markdown",
   "metadata": {},
   "source": [
    "Description Here"
   ]
  }
 ],
 "metadata": {
  "anaconda-cloud": {},
  "kernelspec": {
   "display_name": "Python 3",
   "language": "python",
   "name": "python3"
  },
  "language_info": {
   "codemirror_mode": {
    "name": "ipython",
    "version": 3
   },
   "file_extension": ".py",
   "mimetype": "text/x-python",
   "name": "python",
   "nbconvert_exporter": "python",
   "pygments_lexer": "ipython3",
   "version": "3.7.7"
  }
 },
 "nbformat": 4,
 "nbformat_minor": 1
}
