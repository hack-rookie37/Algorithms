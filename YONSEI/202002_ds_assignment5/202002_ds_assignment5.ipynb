{
 "cells": [
  {
   "cell_type": "markdown",
   "metadata": {},
   "source": [
    "> ### EEE2020-01: Data Structures & Algorithms\n",
    "\n",
    "# Assignment \\# V: Trees and Tree Algorithms"
   ]
  },
  {
   "cell_type": "markdown",
   "metadata": {},
   "source": [
    "<div style=\"text-align: right\"> **Due date: November 28, 2020.** </div> \n",
    "<div style=\"text-align: right\"> **Please upload your file @ yscec by 9 PM.** </div> \n",
    "<br>\n",
    "<div style=\"text-align: right\"> Donghyeon Baek(백동현): <a href=\"mailto:dh_baek@yonsei.ac.kr\">dh_baek@yonsei.ac.kr</a> \n",
    "<div style=\"text-align: right\"> Jaehyeon Moon(문재현): <a href=\"mailto:tw02137@yonsei.ac.kr\">tw02137@yonsei.ac.kr</a> </div>\n",
    "</div>"
   ]
  },
  {
   "cell_type": "markdown",
   "metadata": {},
   "source": [
    "-------------------------------"
   ]
  },
  {
   "cell_type": "markdown",
   "metadata": {},
   "source": [
    "\n",
    "### *Assignment Instructions:*\n",
    "1. Write a program implementing a particular algorithm to solve a given problem.\n",
    "2. You can use both Korean and Engligh for your report.\n",
    "3. Since this is your first assignment of the course, comprehensive instructions are given for particular problems.  \n",
    " However, note that this might not be the case for further assignments over the course.\n",
    "4. **Analyze the algorithm, theoretically and empirically, and write discussion.** \n",
    "5. **Report your results.**  \n",
    "    - You must do assignments and labs yourself. \n",
    "    - <span style=\"color:red\">**Do not copy any part of your friends’ code.**</span>\n",
    "    - Otherwise, you will get a F grade."
   ]
  },
  {
   "cell_type": "markdown",
   "metadata": {},
   "source": [
    "-----------------"
   ]
  },
  {
   "cell_type": "markdown",
   "metadata": {},
   "source": [
    "<h2><span style=\"color:blue\">[Insert your ID HERE] [Insert your name HERE]</span> </h2>"
   ]
  },
  {
   "cell_type": "code",
   "execution_count": 1,
   "metadata": {},
   "outputs": [
    {
     "name": "stdout",
     "output_type": "stream",
     "text": [
      "This code is written at 2020-11-09 11:23:29.084336\n"
     ]
    }
   ],
   "source": [
    "import datetime\n",
    "print(\"This code is written at \" + str(datetime.datetime.now()))"
   ]
  },
  {
   "cell_type": "markdown",
   "metadata": {},
   "source": [
    "-------------------------------"
   ]
  },
  {
   "cell_type": "markdown",
   "metadata": {},
   "source": [
    "### PROBLEM I: Tree Traversal (40 POINTS)"
   ]
  },
  {
   "cell_type": "markdown",
   "metadata": {},
   "source": [
    "$\\texttt{BST(Binary Search Trees)}$가 주어졌을 때, $\\texttt{Root}$에서부터 $\\texttt{Leaf}$까지의 여러 $\\texttt{path}$ 중 각 $\\texttt{node}$ $\\texttt{payload}$의 최대 합을 찾는 코드를 완성하시오.\n",
    "<br><br>\n",
    "\n",
    "문제를 아래와 같이 두 가지 방법으로 풀고자 한다. 아래의 주어진 조건에 맞게 코드를 완성하시오.\n",
    "```python\n",
    "def findGreedy(tree):\n",
    "```\n",
    "\n",
    "> - 자식($\\texttt{Child}$) 중에서 $\\texttt{payload}$가 더 큰 $\\texttt{node}$쪽으로만 탐색한다.\n",
    ">\n",
    "```python\n",
    "def findTraversal(tree):\n",
    "```\n",
    "> - Traversal 중 하나의 방법을 이용하여 모든 $\\texttt{node}$를 탐색한다.\n",
    "\n",
    "#### 주의사항\n",
    "- $\\texttt{BinarySearchTree.py}$는 수정하지 않는다.\n",
    "- 최대가 되는 $\\texttt{payload}$의 합을 출력한다."
   ]
  },
  {
   "cell_type": "markdown",
   "metadata": {},
   "source": [
    "#### Sample Code"
   ]
  },
  {
   "cell_type": "code",
   "execution_count": 3,
   "metadata": {},
   "outputs": [],
   "source": [
    "from BinarySearchTree import *\n",
    "from problem1 import findTraversal, findGreedy\n",
    "\n",
    "my_tree = BinarySearchTree()\n",
    "\n",
    "my_tree[17] = 5\n",
    "my_tree[35] = 8\n",
    "my_tree[2] = 7\n",
    "my_tree[11] = 2\n",
    "my_tree[29] = 5\n",
    "my_tree[38] = 2\n",
    "my_tree[9] = 3\n",
    "my_tree[16] = 1\n",
    "my_tree[7] = 2\n",
    "my_tree[8] = 1"
   ]
  },
  {
   "cell_type": "code",
   "execution_count": 4,
   "metadata": {},
   "outputs": [
    {
     "name": "stdout",
     "output_type": "stream",
     "text": [
      "----- Printing tree structure -----\n",
      "Total Nodes :  10\n",
      "(Root) [17]:5\n",
      "      1-(R) [35]:8\n",
      "           2-(R) [38]:2\n",
      "           2-(L) [29]:5\n",
      "      1-(L) [ 2]:7\n",
      "           2-(R) [11]:2\n",
      "                3-(R) [16]:1\n",
      "                3-(L) [ 9]:3\n",
      "                     4-(L) [ 7]:2\n",
      "                          5-(R) [ 8]:1\n"
     ]
    }
   ],
   "source": [
    "print_tree(my_tree)"
   ]
  },
  {
   "cell_type": "code",
   "execution_count": 5,
   "metadata": {},
   "outputs": [
    {
     "name": "stdout",
     "output_type": "stream",
     "text": [
      "Traversal Search: 20\n",
      "Greedy Search: 18\n"
     ]
    }
   ],
   "source": [
    "print('Traversal Search: %d' % (findTraversal(my_tree)))\n",
    "print('Greedy Search: %d' % (findGreedy(my_tree)))"
   ]
  },
  {
   "cell_type": "markdown",
   "metadata": {},
   "source": [
    "#### Describe your algorithm: "
   ]
  },
  {
   "cell_type": "markdown",
   "metadata": {},
   "source": [
    "Your Description"
   ]
  },
  {
   "cell_type": "markdown",
   "metadata": {},
   "source": [
    "-----------------"
   ]
  },
  {
   "cell_type": "markdown",
   "metadata": {},
   "source": [
    "### PROBLEM II: 2-3 Tree (60 POINTS)"
   ]
  },
  {
   "cell_type": "markdown",
   "metadata": {},
   "source": [
    "$\\texttt{Balanced Binary Search Trees}$ 중 하나인 $\\texttt{2-3 Trees}$를 구현하고자 한다."
   ]
  },
  {
   "cell_type": "markdown",
   "metadata": {},
   "source": [
    "#### 용어\n",
    "- $\\texttt{2-node}$: 한 개의 data를 가지고 두 개의 자식($\\texttt{Child}$)을 가지는 $\\texttt{Node}$\n",
    "- $\\texttt{3-node}$: 두 개의 data를 가지고 세 개의 자식($\\texttt{Child}$)을 가지는 $\\texttt{Node}$\n",
    "\n",
    "#### 정의 및 조건\n",
    "$\\texttt{2-3 Trees}$는 항상 아래 조건을 만족한다.\n",
    "> 1. 각 $\\texttt{Node}$는 최대 2개의 data를 가질 수 있다.\n",
    ">2. 각 $\\texttt{Node}$는 최대 3개의 자식($\\texttt{Child}$)을 가질 수 있다.\n",
    ">3. $\\texttt{Node}$가 하나도 없는 경우, $\\texttt{2-3 Trees}$는 비어있다고 말한다.\n",
    ">4. $\\texttt{2-node}$의 data가 $\\texttt{a}$이고, 각각의 자식($\\texttt{Child}$)의 data가 왼쪽에서부터 $\\texttt{p}$, $\\texttt{q}$일 때 아래를 항상 만족한다.\n",
    ">> - $\\texttt{p}$와 $\\texttt{q}$는 비어있지 않다.\n",
    ">> - $\\texttt{p}$와 $\\texttt{q}$는 높이($\\texttt{height}$)가 같다.\n",
    ">> - $\\texttt{p}$ < $\\texttt{a}$ < $\\texttt{q}$\n",
    ">5. $\\texttt{3-node}$의 data가 $\\texttt{a}$, $\\texttt{b}$이고, 각각의 자식($\\texttt{Child}$)의 data가 왼쪽에서부터 $\\texttt{p}$, $\\texttt{q}$, $\\texttt{r}$일 때 아래를 항상 만족한다.\n",
    ">> - $\\texttt{p}$, $\\texttt{q}$, $\\texttt{r}$은 비어있지 않다.\n",
    ">> - $\\texttt{p}$, $\\texttt{q}$, $\\texttt{r}$의 높이($\\texttt{height}$)는 같다.\n",
    ">> - $\\texttt{p}$ < $\\texttt{a}$ < $\\texttt{q}$ < $\\texttt{b}$ < $\\texttt{r}$"
   ]
  },
  {
   "cell_type": "markdown",
   "metadata": {},
   "source": [
    "앞선 정의와 조건을 바탕으로 $\\texttt{2-3 Trees}$의 $\\texttt{Insertion}$과 $\\texttt{Find}$ 함수를 구현하시오."
   ]
  },
  {
   "cell_type": "markdown",
   "metadata": {},
   "source": [
    "**Insertion**: 새로운 $\\texttt{Node}$를 $\\texttt{2-3 Trees}$에 넣는 과정이다. $\\texttt{Insertion}$ 과정은 $\\texttt{insert}$, $\\texttt{add}$, $\\texttt{split}$ 세 과정으로 이루어진다.\n",
    "\n",
    "> - $\\texttt{Insert}$: 새로운 $\\texttt{Node}$가 삽입될 위치를 찾는 과정.\n",
    ">\n",
    "> - $\\texttt{Add}$: $\\texttt{Insert}$를 통해 얻은 위치를 바탕으로 새 $\\texttt{Node}$를 기존 $\\texttt{Node}$와 연결하는 작업.\n",
    ">\n",
    "> - $\\texttt{Split}$: $\\texttt{Add}$ 작업 이후, $\\texttt{2-3 Trees}$의 조건이 만족하지 않는 경우 해당 노드를 분리시키는 작업. 분리 이후 필요시 다시 $\\texttt{Add}$를 이용하여 분리된 $\\texttt{Node}$를 기존 $\\texttt{Node}$와 연결하는 작업을 수행한다.\n",
    "\n",
    "$\\texttt{Insertion}$은 아래와 같이 4가지 경우가 존재한다.\n",
    "\n",
    "**1. 새로운 data가 하나의 data만 가지는 $\\texttt{Node}$에 삽입되는 경우**\n",
    "\n",
    "> <img src = \"https://drive.google.com/uc?id=1aBwwNGUfltz0nDAhD4Xdsh7_yn-Ha4Ro\" alt=\"Problem2-1\" width=\"450\">\n",
    "\n",
    "**2. 새로운 data가 두 개의 data를 가지는 $\\texttt{Node}$에 삽입되는 경우이면서,**\n",
    "\n",
    "> **2.1. 해당 $\\texttt{Node}$의 부모가 없는 경우**\n",
    ">\n",
    "> <img src = \"https://drive.google.com/uc?id=1cHUJL5SaqETG6vjFM2xc2KvSrIynoBEM\" alt=\"Problem2-2\" width=\"700\">\n",
    "> \n",
    "> **2.2. 해당 $\\texttt{Node}$의 부모가 하나의 data만 가지는 경우**\n",
    "> \n",
    "> <img src = \"https://drive.google.com/uc?id=12EkLOD0D9fHkQ56hmOj-bhI4RI_StHnr\" alt=\"Problem2-3\" width=\"700\">\n",
    "> \n",
    "> **2.3. 해당 $\\texttt{Node}$의 부모가 두 개의 data를 가지는 경우**\n",
    "> \n",
    "> <img src = \"https://drive.google.com/uc?id=1XimOHw6FXmG9_hSP--kd_maDtGcVR0SD\" alt=\"Problem2-4\" width=\"700\">"
   ]
  },
  {
   "cell_type": "markdown",
   "metadata": {},
   "source": [
    "**Find**: 주어진 $\\texttt{item}$ 값을 가지는 $\\texttt{Node}$가 $\\texttt{2-3 Trees}$에 존재하는지 찾는 과정이며, $\\texttt{Recursion}$을 이용해 구현한다."
   ]
  },
  {
   "cell_type": "markdown",
   "metadata": {},
   "source": [
    "$\\texttt{2-3 Trees}$에 사용되는 노드는 아래와 같다.\n",
    "```python \n",
    "class TreeNode:\n",
    "    def __init__(self, data, parent = None):\n",
    "        self.data = [data]\n",
    "        self.parent = parent\n",
    "        self.child = []\n",
    "    \n",
    "    def __len__(self):\n",
    "        return len(self.data)\n",
    "    \n",
    "    def __lt__(self, node):\n",
    "        return self.data[0] < node.data[0]\n",
    "\n",
    "    def _isLeaf(self):\n",
    "        return len(self.child) == 0\n",
    "```"
   ]
  },
  {
   "cell_type": "markdown",
   "metadata": {},
   "source": [
    "$\\texttt{Problem2.py}$에 주어진 $\\texttt{TwoThreeTree}$의 세부 조건은 아래와 같다.\n",
    "\n",
    "```python\n",
    "class TwoThreeTree:\n",
    "```\n",
    "> ```python\n",
    "> def __len__(self):\n",
    "> ```\n",
    ">> $\\texttt{2-3 Trees}$에 포함된 $\\texttt{Node}$의 총 개수\n",
    ">\n",
    "> ```python\n",
    "> def insert(self, item):\n",
    "> ```\n",
    ">> $\\texttt{item}$을 $\\texttt{data}$ 변수로 가지는 새로운 $\\texttt{Node}$를 추가하는 작업을 수행한다.\n",
    ">>\n",
    ">> 이때, 상황에 따라 새로운 $\\texttt{Node}$가 생성될 수도 있고, 기존 $\\texttt{Node}$의 $\\texttt{data}$에 추가만 될 수도 있다.\n",
    ">>\n",
    ">> $\\texttt{item}$이 들어가기 알맞은 $\\texttt{Node}$를 찾고, $\\texttt{add}$ 함수를 이용하여 $\\texttt{item}$을 해당 $\\texttt{Node}$에 추가한다.\n",
    ">\n",
    "> ```python\n",
    "> def add(self, current_node, new_node):\n",
    "> ```\n",
    ">> $\\texttt{current_node}$에 $\\texttt{new_node}$를 추가하는 작업을 수행한다.\n",
    ">>\n",
    ">> 필요시 $\\texttt{split}$ 함수를 이용하여, $\\texttt{2-3 Trees}$의 조건을 만족하도록 분리하는 작업을 수행한다.\n",
    ">>\n",
    ">\n",
    "> ```python\n",
    "> def split(self, current_node):\n",
    "> ```\n",
    ">> $\\texttt{current_node}$에 대해서 $\\texttt{2-3 Trees}$ 조건을 만족하도록 split 작업을 수행한다.\n",
    ">>\n",
    ">\n",
    "> ```python\n",
    "> def find(self, item):\n",
    "> ```\n",
    ">> $\\texttt{item}$이 $\\texttt{2-3 Trees}$에 존재하는지 확인한다.\n",
    ">\n",
    "> ```python\n",
    "> def printTree(self):\n",
    "> ```\n",
    ">> $\\texttt{2-3 Trees}$의 모든 $\\texttt{Node}$를 출력한다.\n",
    ">>\n",
    ">> 출력은 작은 $\\texttt{height}$부터 차례로 출력한다.\n",
    ">>\n",
    ">> 구체적 예시는 제공된 Sample Code를 참고한다."
   ]
  },
  {
   "cell_type": "markdown",
   "metadata": {},
   "source": [
    "#### 주의사항\n",
    "- 새로운 $\\texttt{Node}$ 추가가 완료된 후도 $\\texttt{2-3 Trees}$ 조건을 반드시 만족해야 한다.\n",
    "- $\\texttt{find}$는 $\\texttt{Recursion}$을 이용하여 구현한다.\n",
    "- 제공된 $\\texttt{TreeNode}$ class는 수정하지 않는다.\n",
    "- 구현상 편의를 위해 모든 $\\texttt{Node}$는 서로 다른 data 값을 가진다고 가정한다. 새롭게 추가되는 $\\texttt{Node}$도 기존 $\\texttt{Node}$와 중복된 값을 가지지 않는다."
   ]
  },
  {
   "cell_type": "markdown",
   "metadata": {},
   "source": [
    "#### Sample Code"
   ]
  },
  {
   "cell_type": "code",
   "execution_count": 8,
   "metadata": {},
   "outputs": [
    {
     "name": "stdout",
     "output_type": "stream",
     "text": [
      "Insert: 13\n",
      "Insert: 7\n",
      "Insert: 24\n",
      "Split: [7, 13, 24]\n",
      "Insert: 15\n",
      "Insert: 4\n",
      "Insert: 29\n",
      "Split: [15, 24, 29]\n",
      "Insert: 20\n",
      "Insert: 16\n",
      "Split: [15, 16, 20]\n",
      "Split: [13, 16, 24]\n",
      "\n",
      "Find 16: True\n",
      "Find 9: False\n",
      "Find 20: True\n",
      "\n",
      "The Number of TreeNodes:  7\n",
      "\n",
      "--------------------Print Tree--------------------\n",
      "[16] \n",
      "[13] [24] \n",
      "[4, 7] [15] [20] [29] \n",
      "--------------------------------------------------\n"
     ]
    }
   ],
   "source": [
    "from problem2 import TwoThreeTree\n",
    "\n",
    "tree = TwoThreeTree()\n",
    "\n",
    "lst = [13, 7, 24, 15, 4, 29, 20, 16]\n",
    "for item in lst:\n",
    "    tree.insert(item)\n",
    "print()\n",
    "\n",
    "for item in [16, 9, 20]:\n",
    "    print (\"Find %d: %s\" % (item, tree.find(item)))\n",
    "\n",
    "print(\"\\nThe Number of TreeNodes: \", len(tree))\n",
    "\n",
    "tree.printTree()"
   ]
  },
  {
   "cell_type": "markdown",
   "metadata": {},
   "source": [
    "#### Describe your algorithm: "
   ]
  },
  {
   "cell_type": "markdown",
   "metadata": {},
   "source": [
    "Your Description"
   ]
  },
  {
   "cell_type": "markdown",
   "metadata": {},
   "source": [
    "-----------------"
   ]
  }
 ],
 "metadata": {
  "kernelspec": {
   "display_name": "Python 3",
   "language": "python",
   "name": "python3"
  },
  "language_info": {
   "codemirror_mode": {
    "name": "ipython",
    "version": 3
   },
   "file_extension": ".py",
   "mimetype": "text/x-python",
   "name": "python",
   "nbconvert_exporter": "python",
   "pygments_lexer": "ipython3",
   "version": "3.7.7"
  }
 },
 "nbformat": 4,
 "nbformat_minor": 2
}
